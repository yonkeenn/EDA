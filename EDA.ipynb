{
 "cells": [
  {
   "cell_type": "code",
   "execution_count": 2,
   "id": "f76f7405-be68-4db3-ab4f-0cf36e77c2d3",
   "metadata": {},
   "outputs": [],
   "source": [
    "import matplotlib.pyplot as plt\n",
    "import seaborn as sns\n",
    "import pandas as pd\n",
    "import numpy as np\n",
    "import seaborn as sns\n",
    "\n",
    "import json\n",
    "import gc\n",
    "import csv\n",
    "\n",
    "from scipy.stats import uniform\n",
    "from scipy.stats import skew\n",
    "\n",
    "import warnings\n",
    "warnings.filterwarnings(\"ignore\")"
   ]
  },
  {
   "cell_type": "code",
   "execution_count": 3,
   "id": "f3247940-9777-43fc-b579-ae79816f23e6",
   "metadata": {},
   "outputs": [
    {
     "name": "stdout",
     "output_type": "stream",
     "text": [
      "Dataset shape (4831, 30) \n",
      "Low popularity dataset size: 94350, \n",
      "High dataset size: 50580, \n",
      "Total data: 144930\n"
     ]
    }
   ],
   "source": [
    "df_low = pd.read_csv('./dataset/low_popularity_spotify_data.csv')\n",
    "df_high = pd.read_csv('./dataset/high_popularity_spotify_data.csv')\n",
    "df_low[\"popularity\"] = \"Low\"\n",
    "df_high[\"popularity\"] = \"High\"\n",
    "df = pd.concat([df_low, df_high])\n",
    "print(\"Dataset shape {} \\nLow popularity dataset size: {}, \\nHigh dataset size: {}, \\nTotal data: {}\".format(df.shape, df_low.size, df_high.size, df.size))"
   ]
  },
  {
   "cell_type": "code",
   "execution_count": null,
   "id": "18fe9e8e-194b-4836-9cd6-b40b0f02f065",
   "metadata": {},
   "outputs": [],
   "source": []
  }
 ],
 "metadata": {
  "kernelspec": {
   "display_name": "Python 3 (ipykernel)",
   "language": "python",
   "name": "python3"
  },
  "language_info": {
   "codemirror_mode": {
    "name": "ipython",
    "version": 3
   },
   "file_extension": ".py",
   "mimetype": "text/x-python",
   "name": "python",
   "nbconvert_exporter": "python",
   "pygments_lexer": "ipython3",
   "version": "3.9.13"
  }
 },
 "nbformat": 4,
 "nbformat_minor": 5
}
